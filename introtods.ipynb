{
 "cells": [
  {
   "cell_type": "code",
   "execution_count": 29,
   "id": "9d1768eb",
   "metadata": {},
   "outputs": [],
   "source": [
    "import pandas as pd\n",
    "import numpy as np\n",
    "from sklearn.model_selection import train_test_split"
   ]
  },
  {
   "cell_type": "code",
   "execution_count": 30,
   "id": "3319cafa",
   "metadata": {},
   "outputs": [],
   "source": [
    "df = pd.read_csv(\"data_ds.csv\")\n",
    "target = \"winner\"\n",
    "\n",
    "# drop useless info\n",
    "df.drop(['R_ID'], axis=1, inplace=True)\n",
    "df.drop(['B_ID'], axis=1, inplace=True)\n",
    "df.drop(['R_Name'], axis=1, inplace=True)\n",
    "df.drop(['B_Name'], axis=1, inplace=True)\n",
    "df.drop(['Event_ID'], axis=1, inplace=True)\n",
    "df.drop(['Fight_ID'], axis=1, inplace=True)"
   ]
  },
  {
   "cell_type": "code",
   "execution_count": 31,
   "id": "53fdd65a",
   "metadata": {},
   "outputs": [],
   "source": [
    "# combine less frequent values\n",
    "percantage = 0.3\n",
    "categorical = df.select_dtypes(include=\"object\").columns\n",
    "for column in categorical:\n",
    "    if column == 'winner': continue\n",
    "    values = df[column].value_counts().values\n",
    "    qunatile = np.quantile(values, percantage)\n",
    "    grouped = df.groupby(column)[column].transform('size')\n",
    "    df.loc[grouped <= qunatile, column] = 'other'\n",
    "    dummies =  pd.get_dummies(df[column])\n",
    "    df.drop(column,axis=1, inplace=True)\n",
    "    df = pd.concat([df, dummies], axis=1)\n"
   ]
  },
  {
   "cell_type": "code",
   "execution_count": 32,
   "id": "5800f51f",
   "metadata": {},
   "outputs": [],
   "source": [
    "# fill with median to handle outliers\n",
    "def fill_discrete_nan(data, column):\n",
    "    data[column].fillna(data[column].median())\n",
    "    return data\n",
    "\n",
    "for column in df:\n",
    "    if('Round' in column):\n",
    "        df = fill_discrete_nan(df, column)"
   ]
  },
  {
   "cell_type": "code",
   "execution_count": 33,
   "id": "4605999b",
   "metadata": {},
   "outputs": [],
   "source": [
    "def fill_cont_nan(data, column):\n",
    "    data[column].fillna(data[column].mean())\n",
    "    return data\n",
    "\n",
    "df = fill_cont_nan(df, 'B_Height')\n",
    "df = fill_cont_nan(df, 'B_Weight')\n",
    "\n",
    "df = fill_cont_nan(df, 'R_Height')\n",
    "df = fill_cont_nan(df, 'R_Weight')"
   ]
  },
  {
   "cell_type": "code",
   "execution_count": 34,
   "id": "f64cc24d",
   "metadata": {},
   "outputs": [],
   "source": [
    "df = df.fillna(method='bfill')\n",
    "df = df.fillna(method='bfill')"
   ]
  },
  {
   "cell_type": "code",
   "execution_count": 35,
   "id": "e612715a",
   "metadata": {},
   "outputs": [],
   "source": [
    "weightDf = df[[\"B_Weight\", \"R_Weight\"]]\n",
    "min_weight = weightDf.min().min()\n",
    "max_weight = weightDf.max().max()\n",
    "bins = np.linspace(min_weight, max_weight, num=5)\n",
    "df['B_Weight'] = pd.cut(df[\"B_Weight\"], bins=bins)\n",
    "df['R_Weight'] = pd.cut(df[\"R_Weight\"], bins=bins)"
   ]
  },
  {
   "cell_type": "code",
   "execution_count": 36,
   "id": "1f2eb7e3",
   "metadata": {},
   "outputs": [],
   "source": [
    "train, test = train_test_split(df, test_size=0.2)\n",
    "train.to_csv(\"train.csv\", index=False)\n",
    "test.to_csv(\"test.csv\", index=False)"
   ]
  },
  {
   "cell_type": "code",
   "execution_count": null,
   "id": "2cd7147a",
   "metadata": {},
   "outputs": [],
   "source": []
  },
  {
   "cell_type": "code",
   "execution_count": null,
   "id": "a6d56507",
   "metadata": {},
   "outputs": [],
   "source": []
  },
  {
   "cell_type": "code",
   "execution_count": null,
   "id": "0d4c6d77",
   "metadata": {},
   "outputs": [],
   "source": []
  },
  {
   "cell_type": "code",
   "execution_count": null,
   "id": "68d6bb9b",
   "metadata": {},
   "outputs": [],
   "source": []
  }
 ],
 "metadata": {
  "kernelspec": {
   "display_name": "Python 3 (ipykernel)",
   "language": "python",
   "name": "python3"
  },
  "language_info": {
   "codemirror_mode": {
    "name": "ipython",
    "version": 3
   },
   "file_extension": ".py",
   "mimetype": "text/x-python",
   "name": "python",
   "nbconvert_exporter": "python",
   "pygments_lexer": "ipython3",
   "version": "3.8.8"
  }
 },
 "nbformat": 4,
 "nbformat_minor": 5
}
